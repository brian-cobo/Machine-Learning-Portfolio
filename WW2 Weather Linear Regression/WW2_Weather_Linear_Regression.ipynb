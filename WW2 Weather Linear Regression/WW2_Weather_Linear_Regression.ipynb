{
 "cells": [
  {
   "cell_type": "markdown",
   "metadata": {
    "collapsed": true
   },
   "source": [
    "# World War 2 Weather Linear Regression\n",
    "This dataset contains weather data from 1942 to 1945.\n",
    "The dataset can be found at https://www.kaggle.com/smid80/weatherww2/data.\n",
    "\n",
    "The goal of this notebook is to visualize some of the weather data, and create a linear regression model to predict the max temperature given other columns. \n",
    "\n",
    "Notebook Created May 20, 2019"
   ]
  },
  {
   "cell_type": "code",
   "execution_count": 90,
   "metadata": {},
   "outputs": [],
   "source": [
    "import pandas as pd\n",
    "import numpy as np\n",
    "from matplotlib import pyplot as plt\n",
    "import warnings\n",
    "from sklearn.linear_model import LinearRegression\n",
    "from sklearn.model_selection import train_test_split\n",
    "warnings.filterwarnings('ignore')"
   ]
  },
  {
   "cell_type": "code",
   "execution_count": 91,
   "metadata": {},
   "outputs": [
    {
     "name": "stdout",
     "output_type": "stream",
     "text": [
      "     STA      Date Precip  WindGustSpd    MaxTemp    MinTemp   MeanTemp  \\\n",
      "0  10001  1942-7-1  1.016          NaN  25.555556  22.222222  23.888889   \n",
      "1  10001  1942-7-2      0          NaN  28.888889  21.666667  25.555556   \n",
      "2  10001  1942-7-3   2.54          NaN  26.111111  22.222222  24.444444   \n",
      "3  10001  1942-7-4   2.54          NaN  26.666667  22.222222  24.444444   \n",
      "4  10001  1942-7-5      0          NaN  26.666667  21.666667  24.444444   \n",
      "\n",
      "  Snowfall PoorWeather  YR  ...  FB  FTI ITH  PGT  TSHDSBRSGF  SD3  RHX  RHN  \\\n",
      "0        0         NaN  42  ... NaN  NaN NaN  NaN         NaN  NaN  NaN  NaN   \n",
      "1        0         NaN  42  ... NaN  NaN NaN  NaN         NaN  NaN  NaN  NaN   \n",
      "2        0         NaN  42  ... NaN  NaN NaN  NaN         NaN  NaN  NaN  NaN   \n",
      "3        0         NaN  42  ... NaN  NaN NaN  NaN         NaN  NaN  NaN  NaN   \n",
      "4        0         NaN  42  ... NaN  NaN NaN  NaN         NaN  NaN  NaN  NaN   \n",
      "\n",
      "  RVG  WTE  \n",
      "0 NaN  NaN  \n",
      "1 NaN  NaN  \n",
      "2 NaN  NaN  \n",
      "3 NaN  NaN  \n",
      "4 NaN  NaN  \n",
      "\n",
      "[5 rows x 31 columns]\n"
     ]
    }
   ],
   "source": [
    "weatherData = pd.read_csv('Summary of Weather.csv')\n",
    "print(weatherData.head())"
   ]
  },
  {
   "cell_type": "code",
   "execution_count": 92,
   "metadata": {},
   "outputs": [
    {
     "name": "stdout",
     "output_type": "stream",
     "text": [
      "Index(['STA', 'Date', 'Precip', 'WindGustSpd', 'MaxTemp', 'MinTemp',\n",
      "       'MeanTemp', 'Snowfall', 'PoorWeather', 'YR', 'MO', 'DA', 'PRCP', 'DR',\n",
      "       'SPD', 'MAX', 'MIN', 'MEA', 'SNF', 'SND', 'FT', 'FB', 'FTI', 'ITH',\n",
      "       'PGT', 'TSHDSBRSGF', 'SD3', 'RHX', 'RHN', 'RVG', 'WTE'],\n",
      "      dtype='object')\n"
     ]
    }
   ],
   "source": [
    "print(weatherData.columns)"
   ]
  },
  {
   "cell_type": "markdown",
   "metadata": {},
   "source": [
    "From the columns shown above, to predict the Max Temperature, I'd like to use information about the precipitation, wind gust speed, min temp, mean temp, and snowfall. That should give me enough information about the overall weather to predict the max temperature."
   ]
  },
  {
   "cell_type": "code",
   "execution_count": 93,
   "metadata": {
    "scrolled": true
   },
   "outputs": [
    {
     "name": "stdout",
     "output_type": "stream",
     "text": [
      "  Precip  WindSpeed    MaxTemp    MinTemp   MeanTemp SnowfallMM\n",
      "0  1.016        NaN  25.555556  22.222222  23.888889          0\n",
      "1      0        NaN  28.888889  21.666667  25.555556          0\n",
      "2   2.54        NaN  26.111111  22.222222  24.444444          0\n",
      "3   2.54        NaN  26.666667  22.222222  24.444444          0\n",
      "4      0        NaN  26.666667  21.666667  24.444444          0\n"
     ]
    }
   ],
   "source": [
    "newWeatherData = weatherData[['Precip', 'WindGustSpd', 'MaxTemp', 'MinTemp', 'MeanTemp', 'Snowfall']]\n",
    "newWeatherData.rename(columns = {'WindGustSpd': 'WindSpeed', 'Snowfall':'SnowfallMM'}, inplace = True)\n",
    "print(newWeatherData.head())"
   ]
  },
  {
   "cell_type": "markdown",
   "metadata": {},
   "source": [
    "The temperatures recorded are in Celcius, let's go ahead and convert them into Farenheit to help understand the numbers more"
   ]
  },
  {
   "cell_type": "code",
   "execution_count": 94,
   "metadata": {},
   "outputs": [
    {
     "name": "stdout",
     "output_type": "stream",
     "text": [
      "  Precip  WindSpeed  MaxTemp  MinTemp  MeanTemp SnowfallMM\n",
      "0  1.016        NaN     78.0     72.0      75.0          0\n",
      "1      0        NaN     84.0     71.0      78.0          0\n",
      "2   2.54        NaN     79.0     72.0      76.0          0\n",
      "3   2.54        NaN     80.0     72.0      76.0          0\n",
      "4      0        NaN     80.0     71.0      76.0          0\n"
     ]
    }
   ],
   "source": [
    "newWeatherData['MaxTemp'] = newWeatherData['MaxTemp'].apply(lambda x: ((x * 9/5) + 32) )\n",
    "newWeatherData['MinTemp'] = newWeatherData['MinTemp'].apply(lambda x: ((x * 9/5) + 32) )\n",
    "newWeatherData['MeanTemp'] = newWeatherData['MeanTemp'].apply(lambda x: ((x * 9/5) + 32) )\n",
    "print(newWeatherData.head())"
   ]
  },
  {
   "cell_type": "markdown",
   "metadata": {},
   "source": [
    "Now that we have a condened table of weather information, it's time to start investigating the stats of each column. Keep in mind that there are over 119,000 rows."
   ]
  },
  {
   "cell_type": "code",
   "execution_count": 95,
   "metadata": {
    "scrolled": false
   },
   "outputs": [
    {
     "name": "stdout",
     "output_type": "stream",
     "text": [
      "<class 'pandas.core.frame.DataFrame'>\n",
      "RangeIndex: 119040 entries, 0 to 119039\n",
      "Data columns (total 6 columns):\n",
      "Precip        119040 non-null object\n",
      "WindSpeed     532 non-null float64\n",
      "MaxTemp       119040 non-null float64\n",
      "MinTemp       119040 non-null float64\n",
      "MeanTemp      119040 non-null float64\n",
      "SnowfallMM    117877 non-null object\n",
      "dtypes: float64(4), object(2)\n",
      "memory usage: 5.4+ MB\n"
     ]
    },
    {
     "data": {
      "text/html": [
       "<div>\n",
       "<style scoped>\n",
       "    .dataframe tbody tr th:only-of-type {\n",
       "        vertical-align: middle;\n",
       "    }\n",
       "\n",
       "    .dataframe tbody tr th {\n",
       "        vertical-align: top;\n",
       "    }\n",
       "\n",
       "    .dataframe thead th {\n",
       "        text-align: right;\n",
       "    }\n",
       "</style>\n",
       "<table border=\"1\" class=\"dataframe\">\n",
       "  <thead>\n",
       "    <tr style=\"text-align: right;\">\n",
       "      <th></th>\n",
       "      <th>WindSpeed</th>\n",
       "      <th>MaxTemp</th>\n",
       "      <th>MinTemp</th>\n",
       "      <th>MeanTemp</th>\n",
       "    </tr>\n",
       "  </thead>\n",
       "  <tbody>\n",
       "    <tr>\n",
       "      <th>count</th>\n",
       "      <td>532.000000</td>\n",
       "      <td>119040.00000</td>\n",
       "      <td>119040.000000</td>\n",
       "      <td>119040.000000</td>\n",
       "    </tr>\n",
       "    <tr>\n",
       "      <th>mean</th>\n",
       "      <td>37.774534</td>\n",
       "      <td>80.68120</td>\n",
       "      <td>64.021119</td>\n",
       "      <td>72.340936</td>\n",
       "    </tr>\n",
       "    <tr>\n",
       "      <th>std</th>\n",
       "      <td>10.297808</td>\n",
       "      <td>15.69207</td>\n",
       "      <td>15.002229</td>\n",
       "      <td>14.936368</td>\n",
       "    </tr>\n",
       "    <tr>\n",
       "      <th>min</th>\n",
       "      <td>18.520000</td>\n",
       "      <td>-28.00000</td>\n",
       "      <td>-37.000000</td>\n",
       "      <td>-32.000000</td>\n",
       "    </tr>\n",
       "    <tr>\n",
       "      <th>25%</th>\n",
       "      <td>29.632000</td>\n",
       "      <td>78.00000</td>\n",
       "      <td>59.000000</td>\n",
       "      <td>69.000000</td>\n",
       "    </tr>\n",
       "    <tr>\n",
       "      <th>50%</th>\n",
       "      <td>37.040000</td>\n",
       "      <td>85.00000</td>\n",
       "      <td>70.000000</td>\n",
       "      <td>78.000000</td>\n",
       "    </tr>\n",
       "    <tr>\n",
       "      <th>75%</th>\n",
       "      <td>43.059000</td>\n",
       "      <td>89.00000</td>\n",
       "      <td>74.000000</td>\n",
       "      <td>81.000000</td>\n",
       "    </tr>\n",
       "    <tr>\n",
       "      <th>max</th>\n",
       "      <td>75.932000</td>\n",
       "      <td>122.00000</td>\n",
       "      <td>94.000000</td>\n",
       "      <td>104.000000</td>\n",
       "    </tr>\n",
       "  </tbody>\n",
       "</table>\n",
       "</div>"
      ],
      "text/plain": [
       "        WindSpeed       MaxTemp        MinTemp       MeanTemp\n",
       "count  532.000000  119040.00000  119040.000000  119040.000000\n",
       "mean    37.774534      80.68120      64.021119      72.340936\n",
       "std     10.297808      15.69207      15.002229      14.936368\n",
       "min     18.520000     -28.00000     -37.000000     -32.000000\n",
       "25%     29.632000      78.00000      59.000000      69.000000\n",
       "50%     37.040000      85.00000      70.000000      78.000000\n",
       "75%     43.059000      89.00000      74.000000      81.000000\n",
       "max     75.932000     122.00000      94.000000     104.000000"
      ]
     },
     "execution_count": 95,
     "metadata": {},
     "output_type": "execute_result"
    }
   ],
   "source": [
    "newWeatherData.info()\n",
    "newWeatherData.describe()"
   ]
  },
  {
   "cell_type": "markdown",
   "metadata": {},
   "source": [
    "Some interesting findings are that there are only 532 entries for wind speed. Trying to clean it wouldn't make sense because there's only 532 out of 119040 (0.004%) entries that aren't null. They make up such as tiny part of the data that cleaning it could skew the results. It wouldn't make sense to replace the null values with the mean of the column since the existing data makes up such a tiny percent of the overall data. Replacing every null value with 0 would also skew the data and throw off the model. So it's best to get rid of that column.\n",
    "\n",
    "Side Note, there's some pretty cool info displayed. Throughout all the stations, the average temperature is 72F, but some station has seen a high of 122F and others have seen a low of -37F. 50% of the average temperature lies between 69F and 81F."
   ]
  },
  {
   "cell_type": "code",
   "execution_count": 96,
   "metadata": {},
   "outputs": [
    {
     "data": {
      "text/html": [
       "<div>\n",
       "<style scoped>\n",
       "    .dataframe tbody tr th:only-of-type {\n",
       "        vertical-align: middle;\n",
       "    }\n",
       "\n",
       "    .dataframe tbody tr th {\n",
       "        vertical-align: top;\n",
       "    }\n",
       "\n",
       "    .dataframe thead th {\n",
       "        text-align: right;\n",
       "    }\n",
       "</style>\n",
       "<table border=\"1\" class=\"dataframe\">\n",
       "  <thead>\n",
       "    <tr style=\"text-align: right;\">\n",
       "      <th></th>\n",
       "      <th>Precip</th>\n",
       "      <th>MaxTemp</th>\n",
       "      <th>MinTemp</th>\n",
       "      <th>MeanTemp</th>\n",
       "      <th>SnowfallMM</th>\n",
       "    </tr>\n",
       "  </thead>\n",
       "  <tbody>\n",
       "    <tr>\n",
       "      <th>0</th>\n",
       "      <td>1.016</td>\n",
       "      <td>78.0</td>\n",
       "      <td>72.0</td>\n",
       "      <td>75.0</td>\n",
       "      <td>0</td>\n",
       "    </tr>\n",
       "    <tr>\n",
       "      <th>1</th>\n",
       "      <td>0</td>\n",
       "      <td>84.0</td>\n",
       "      <td>71.0</td>\n",
       "      <td>78.0</td>\n",
       "      <td>0</td>\n",
       "    </tr>\n",
       "    <tr>\n",
       "      <th>2</th>\n",
       "      <td>2.54</td>\n",
       "      <td>79.0</td>\n",
       "      <td>72.0</td>\n",
       "      <td>76.0</td>\n",
       "      <td>0</td>\n",
       "    </tr>\n",
       "    <tr>\n",
       "      <th>3</th>\n",
       "      <td>2.54</td>\n",
       "      <td>80.0</td>\n",
       "      <td>72.0</td>\n",
       "      <td>76.0</td>\n",
       "      <td>0</td>\n",
       "    </tr>\n",
       "    <tr>\n",
       "      <th>4</th>\n",
       "      <td>0</td>\n",
       "      <td>80.0</td>\n",
       "      <td>71.0</td>\n",
       "      <td>76.0</td>\n",
       "      <td>0</td>\n",
       "    </tr>\n",
       "  </tbody>\n",
       "</table>\n",
       "</div>"
      ],
      "text/plain": [
       "  Precip  MaxTemp  MinTemp  MeanTemp SnowfallMM\n",
       "0  1.016     78.0     72.0      75.0          0\n",
       "1      0     84.0     71.0      78.0          0\n",
       "2   2.54     79.0     72.0      76.0          0\n",
       "3   2.54     80.0     72.0      76.0          0\n",
       "4      0     80.0     71.0      76.0          0"
      ]
     },
     "execution_count": 96,
     "metadata": {},
     "output_type": "execute_result"
    }
   ],
   "source": [
    "newWeatherData = newWeatherData.drop(columns = \"WindSpeed\")\n",
    "newWeatherData.head()"
   ]
  },
  {
   "cell_type": "code",
   "execution_count": 97,
   "metadata": {},
   "outputs": [
    {
     "name": "stdout",
     "output_type": "stream",
     "text": [
      "<class 'pandas.core.frame.DataFrame'>\n",
      "RangeIndex: 119040 entries, 0 to 119039\n",
      "Data columns (total 5 columns):\n",
      "Precip        119040 non-null object\n",
      "MaxTemp       119040 non-null float64\n",
      "MinTemp       119040 non-null float64\n",
      "MeanTemp      119040 non-null float64\n",
      "SnowfallMM    119040 non-null object\n",
      "dtypes: float64(3), object(2)\n",
      "memory usage: 4.5+ MB\n"
     ]
    }
   ],
   "source": [
    "newWeatherData['SnowfallMM'].fillna(0, inplace = True)\n",
    "newWeatherData.info()"
   ]
  },
  {
   "cell_type": "markdown",
   "metadata": {},
   "source": [
    "We replaced the null values in Snowfall with 0. I'm getting a type error trying to input the mean value of the snowfall into the null values. Upon more further looking at the data further, there are a lot of string values within snowfall and precipitation, so until I get more experience in data cleaning, we'll have to leave that alone for now. "
   ]
  },
  {
   "cell_type": "code",
   "execution_count": 103,
   "metadata": {},
   "outputs": [
    {
     "name": "stdout",
     "output_type": "stream",
     "text": [
      "[[-0.88513157  1.87698179]]\n",
      "[1.56384251]\n"
     ]
    }
   ],
   "source": [
    "x = newWeatherData[['MinTemp', 'MeanTemp']]\n",
    "y = newWeatherData[['MaxTemp']]\n",
    "\n",
    "x_train, x_test, y_train, y_test = train_test_split(x, y, train_size=0.8, test_size=0.2)\n",
    "\n",
    "regModel = LinearRegression()\n",
    "regModel = regModel.fit(x_train, y_train)\n",
    "print(regModel.coef_)\n",
    "print(regModel.intercept_)"
   ]
  },
  {
   "cell_type": "markdown",
   "metadata": {},
   "source": [
    "We now have the equation used to fit the model.\n",
    "maxTemp = (-0.8851x + 1.5638) + (1.8769 + 1.5638)\n",
    "\n",
    "Looking at the slopes of the two columns, we see that the mean temp column has a significantly larger impact on predicting the max temperature than the min temp does."
   ]
  },
  {
   "cell_type": "code",
   "execution_count": 107,
   "metadata": {},
   "outputs": [
    {
     "name": "stdout",
     "output_type": "stream",
     "text": [
      "Accuracy: 0.9843285113475596\n"
     ]
    }
   ],
   "source": [
    "maxTempPredicted = regModel.predict(x_test)\n",
    "modelScore = regModel.score(x_test, y_test)\n",
    "print(\"Accuracy:\",modelScore)"
   ]
  },
  {
   "cell_type": "markdown",
   "metadata": {},
   "source": [
    "With the information shown above, we see that the model can predict the max temperature of a day given the min temperature and the mean temperatrue with an accuracy of 98.4%"
   ]
  },
  {
   "cell_type": "code",
   "execution_count": 115,
   "metadata": {},
   "outputs": [
    {
     "data": {
      "image/png": "[encoded data removed]",
      "text/plain": [
       "<Figure size 1008x432 with 1 Axes>"
      ]
     },
     "metadata": {
      "needs_background": "light"
     },
     "output_type": "display_data"
    }
   ],
   "source": [
    "plt.figure(figsize = (14, 6))\n",
    "plt.scatter(y_test, maxTempPredicted)\n",
    "plt.title('Actual Temperatures vs. Predicted Temperatures')\n",
    "plt.xlabel('Actual Temperature')\n",
    "plt.ylabel('Predicted Temperature')\n",
    "plt.show()"
   ]
  },
  {
   "cell_type": "code",
   "execution_count": 128,
   "metadata": {},
   "outputs": [],
   "source": [
    "def predictMaxTemperature(minTemperature, meanTemperature):\n",
    "    predictedMaxTemp = regModel.predict([[minTemperature, meanTemperature]])\n",
    "    print('Expected Max Temperature:', predictedMaxTemp)\n",
    "    return predictedMaxTemp"
   ]
  },
  {
   "cell_type": "code",
   "execution_count": 129,
   "metadata": {},
   "outputs": [
    {
     "name": "stdout",
     "output_type": "stream",
     "text": [
      "Expected Max Temperature: [[83.03366164]]\n",
      "[[83.03366164]]\n"
     ]
    }
   ],
   "source": [
    "print(predictMaxTemperature(67, 75))"
   ]
  }
 ],
 "metadata": {
  "kernelspec": {
   "display_name": "Python 3",
   "language": "python",
   "name": "python3"
  },
  "language_info": {
   "codemirror_mode": {
    "name": "ipython",
    "version": 3
   },
   "file_extension": ".py",
   "mimetype": "text/x-python",
   "name": "python",
   "nbconvert_exporter": "python",
   "pygments_lexer": "ipython3",
   "version": "3.7.2"
  }
 },
 "nbformat": 4,
 "nbformat_minor": 1
}
